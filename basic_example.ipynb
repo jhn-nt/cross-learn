{
 "cells": [
  {
   "cell_type": "markdown",
   "id": "740a9a58-e39c-4017-8110-2a21713b6b9c",
   "metadata": {},
   "source": [
    "## Basic Example"
   ]
  },
  {
   "cell_type": "code",
   "execution_count": 1,
   "id": "855eb4d0-87d5-4400-b414-6f11b68e454d",
   "metadata": {},
   "outputs": [],
   "source": [
    "import numpy as np\n",
    "import matplotlib.pyplot as plt\n",
    "from sklearn.datasets import make_classification"
   ]
  },
  {
   "cell_type": "code",
   "execution_count": 2,
   "id": "c0f86524-ac1e-4c24-b44b-afffa608efa2",
   "metadata": {},
   "outputs": [],
   "source": [
    "# bulding a mock datatset \n",
    "X, y = make_classification(n_samples = 1000, n_features = 100, \n",
    "                           n_informative = 11, n_redundant = 35)\n",
    "groups = np.repeat(np.arange(10), 100) # creatng random groups"
   ]
  },
  {
   "cell_type": "code",
   "execution_count": 3,
   "id": "d3625eb1-c4a9-4d9f-828a-d67217927b09",
   "metadata": {},
   "outputs": [],
   "source": [
    "# defining a model\n",
    "from sklearn.linear_model import LogisticRegression\n",
    "from sklearn.preprocessing import StandardScaler\n",
    "from sklearn.pipeline import Pipeline\n",
    "from sklearn.model_selection import GroupKFold, GridSearchCV\n",
    "\n",
    "# we will use ColinearityRemover to discard redundant features\n",
    "from jhn_ai.transformers import ColinearityRemover\n",
    "\n",
    "cv = GroupKFold(n_splits = 5)\n",
    "\n",
    "model = Pipeline([\n",
    "    ('scaling', StandardScaler()),\n",
    "    ('linear_fs', ColinearityRemover()),\n",
    "    ('estimator', LogisticRegression(solver ='saga'))\n",
    "])\n",
    "\n",
    "param_grid = {\n",
    "    'estimator__C': [.0001, .001, .01, .1],\n",
    "    'estimator__penalty': ['l1','l2']\n",
    "}\n",
    "\n",
    "optimizer = GridSearchCV(model, param_grid, cv = cv)"
   ]
  },
  {
   "cell_type": "code",
   "execution_count": 4,
   "id": "ea447e92-48e9-479d-bfdb-744621bb31d8",
   "metadata": {},
   "outputs": [
    {
     "name": "stderr",
     "output_type": "stream",
     "text": [
      "100%|████████████████████████████████████████████████████████████████████████████████████| 5/5 [00:17<00:00,  3.50s/it]\n"
     ]
    }
   ],
   "source": [
    "from jhn_ai.evaluation import supervised_crossvalidation\n",
    "# nested crossvalidation in one line\n",
    "scores, rocs, _, _, _ = supervised_crossvalidation(optimizer, X, y, groups = groups, cv = cv)"
   ]
  },
  {
   "cell_type": "code",
   "execution_count": 5,
   "id": "a5acfb9b-4488-4f67-8ad4-c36130ea2be3",
   "metadata": {},
   "outputs": [
    {
     "data": {
      "text/html": [
       "<div>\n",
       "<style scoped>\n",
       "    .dataframe tbody tr th:only-of-type {\n",
       "        vertical-align: middle;\n",
       "    }\n",
       "\n",
       "    .dataframe tbody tr th {\n",
       "        vertical-align: top;\n",
       "    }\n",
       "\n",
       "    .dataframe thead tr th {\n",
       "        text-align: left;\n",
       "    }\n",
       "\n",
       "    .dataframe thead tr:last-of-type th {\n",
       "        text-align: right;\n",
       "    }\n",
       "</style>\n",
       "<table border=\"1\" class=\"dataframe\">\n",
       "  <thead>\n",
       "    <tr>\n",
       "      <th>set</th>\n",
       "      <th colspan=\"4\" halign=\"left\">train</th>\n",
       "      <th colspan=\"4\" halign=\"left\">test</th>\n",
       "    </tr>\n",
       "    <tr>\n",
       "      <th>class</th>\n",
       "      <th colspan=\"2\" halign=\"left\">0</th>\n",
       "      <th colspan=\"2\" halign=\"left\">1</th>\n",
       "      <th colspan=\"2\" halign=\"left\">0</th>\n",
       "      <th colspan=\"2\" halign=\"left\">1</th>\n",
       "    </tr>\n",
       "    <tr>\n",
       "      <th></th>\n",
       "      <th>mean</th>\n",
       "      <th>std</th>\n",
       "      <th>mean</th>\n",
       "      <th>std</th>\n",
       "      <th>mean</th>\n",
       "      <th>std</th>\n",
       "      <th>mean</th>\n",
       "      <th>std</th>\n",
       "    </tr>\n",
       "    <tr>\n",
       "      <th>metric</th>\n",
       "      <th></th>\n",
       "      <th></th>\n",
       "      <th></th>\n",
       "      <th></th>\n",
       "      <th></th>\n",
       "      <th></th>\n",
       "      <th></th>\n",
       "      <th></th>\n",
       "    </tr>\n",
       "  </thead>\n",
       "  <tbody>\n",
       "    <tr>\n",
       "      <th>f1</th>\n",
       "      <td>0.822527</td>\n",
       "      <td>0.006629</td>\n",
       "      <td>0.828218</td>\n",
       "      <td>0.008461</td>\n",
       "      <td>0.794149</td>\n",
       "      <td>0.043908</td>\n",
       "      <td>0.800303</td>\n",
       "      <td>0.033389</td>\n",
       "    </tr>\n",
       "    <tr>\n",
       "      <th>precision</th>\n",
       "      <td>0.838408</td>\n",
       "      <td>0.006025</td>\n",
       "      <td>0.813500</td>\n",
       "      <td>0.007472</td>\n",
       "      <td>0.805984</td>\n",
       "      <td>0.054495</td>\n",
       "      <td>0.789351</td>\n",
       "      <td>0.032637</td>\n",
       "    </tr>\n",
       "    <tr>\n",
       "      <th>recall</th>\n",
       "      <td>0.807294</td>\n",
       "      <td>0.010437</td>\n",
       "      <td>0.843529</td>\n",
       "      <td>0.011854</td>\n",
       "      <td>0.783306</td>\n",
       "      <td>0.039811</td>\n",
       "      <td>0.812205</td>\n",
       "      <td>0.042692</td>\n",
       "    </tr>\n",
       "    <tr>\n",
       "      <th>roc_auc_ovr</th>\n",
       "      <td>0.898559</td>\n",
       "      <td>0.005436</td>\n",
       "      <td>0.898559</td>\n",
       "      <td>0.005436</td>\n",
       "      <td>0.875700</td>\n",
       "      <td>0.024400</td>\n",
       "      <td>0.875700</td>\n",
       "      <td>0.024400</td>\n",
       "    </tr>\n",
       "    <tr>\n",
       "      <th>support</th>\n",
       "      <td>400.800000</td>\n",
       "      <td>7.395945</td>\n",
       "      <td>399.200000</td>\n",
       "      <td>7.395945</td>\n",
       "      <td>100.200000</td>\n",
       "      <td>7.395945</td>\n",
       "      <td>99.800000</td>\n",
       "      <td>7.395945</td>\n",
       "    </tr>\n",
       "  </tbody>\n",
       "</table>\n",
       "</div>"
      ],
      "text/plain": [
       "set               train                                        test            \\\n",
       "class                 0                     1                     0             \n",
       "                   mean       std        mean       std        mean       std   \n",
       "metric                                                                          \n",
       "f1             0.822527  0.006629    0.828218  0.008461    0.794149  0.043908   \n",
       "precision      0.838408  0.006025    0.813500  0.007472    0.805984  0.054495   \n",
       "recall         0.807294  0.010437    0.843529  0.011854    0.783306  0.039811   \n",
       "roc_auc_ovr    0.898559  0.005436    0.898559  0.005436    0.875700  0.024400   \n",
       "support      400.800000  7.395945  399.200000  7.395945  100.200000  7.395945   \n",
       "\n",
       "set                               \n",
       "class                1            \n",
       "                  mean       std  \n",
       "metric                            \n",
       "f1            0.800303  0.033389  \n",
       "precision     0.789351  0.032637  \n",
       "recall        0.812205  0.042692  \n",
       "roc_auc_ovr   0.875700  0.024400  \n",
       "support      99.800000  7.395945  "
      ]
     },
     "execution_count": 5,
     "metadata": {},
     "output_type": "execute_result"
    }
   ],
   "source": [
    "# major scores\n",
    "scores.groupby('metric').agg(['mean','std'])\n",
    "\n",
    "# scores contains major classification scores for each classification fold and each class.\n",
    "# Thus, compared to sklearn cross_validate it computes also disaggregated class scores.\n",
    "# In this case, our model work well, scores are stable and balanced between class 0 and 1 across all metrics. "
   ]
  },
  {
   "cell_type": "code",
   "execution_count": 6,
   "id": "e76e723b-c120-4171-ad20-c0a2a943e6e4",
   "metadata": {},
   "outputs": [
    {
     "data": {
      "image/png": "[encoded data removed]",
      "text/plain": [
       "<Figure size 432x288 with 1 Axes>"
      ]
     },
     "metadata": {
      "needs_background": "light"
     },
     "output_type": "display_data"
    }
   ],
   "source": [
    "# ROCS in one line\n",
    "# let's compare training and testing performance \n",
    "_ = rocs.groupby('fpr').mean().swaplevel(1,0, axis = 1)[1].plot(title = 'Are we overfitting?')\n",
    "\n",
    "# similarly to scores, in rocs you will find FPR and TPR for each crossvalidation fold.\n",
    "# you can tweak the resolution of ROC curves with fpr_interp kwarg in supervised_crossvalidation."
   ]
  },
  {
   "cell_type": "code",
   "execution_count": 7,
   "id": "18279f2f-9aae-455e-9097-6f93780826d4",
   "metadata": {},
   "outputs": [
    {
     "data": {
      "image/png": "[encoded data removed]",
      "text/plain": [
       "<Figure size 432x288 with 1 Axes>"
      ]
     },
     "metadata": {
      "needs_background": "light"
     },
     "output_type": "display_data"
    }
   ],
   "source": [
    "# in rocs you can eaily compute ROC for each fold to assess the stability of your model.\n",
    "ax = rocs['test'][1].unstack().T.plot(title = 'Easy access to fold-wise ROCs', alpha = .75)\n",
    "_ = rocs['test'][1].groupby('fpr').mean().plot(ax = ax, color = 'k', lw = 2, ls = '--')\n",
    "\n",
    "# the black dotted line is the fold-average ROC "
   ]
  },
  {
   "cell_type": "markdown",
   "id": "49e81e32-b50c-44dc-9e36-865006c3e03b",
   "metadata": {},
   "source": [
    "As you can see, with jhn_ai we built, trained and evaluated a model with few lines of code."
   ]
  }
 ],
 "metadata": {
  "kernelspec": {
   "display_name": "Python 3 (ipykernel)",
   "language": "python",
   "name": "python3"
  },
  "language_info": {
   "codemirror_mode": {
    "name": "ipython",
    "version": 3
   },
   "file_extension": ".py",
   "mimetype": "text/x-python",
   "name": "python",
   "nbconvert_exporter": "python",
   "pygments_lexer": "ipython3",
   "version": "3.9.7"
  }
 },
 "nbformat": 4,
 "nbformat_minor": 5
}
